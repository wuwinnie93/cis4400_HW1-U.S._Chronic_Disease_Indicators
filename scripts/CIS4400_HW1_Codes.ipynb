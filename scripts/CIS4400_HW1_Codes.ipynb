{
  "cells": [
    {
      "cell_type": "code",
      "execution_count": 2,
      "metadata": {
        "id": "z2DWoRKCfZk0"
      },
      "outputs": [],
      "source": [
        "import pandas as pd\n",
        "import numpy as np\n",
        "import json\n",
        "import requests\n",
        "from io import StringIO"
      ]
    },
    {
      "cell_type": "code",
      "execution_count": 3,
      "metadata": {
        "colab": {
          "base_uri": "https://localhost:8080/"
        },
        "id": "3G8L1240f4Mz",
        "outputId": "106be0eb-b833-4597-db96-472ebf48f03c"
      },
      "outputs": [
        {
          "name": "stdout",
          "output_type": "stream",
          "text": [
            "   YearStart  YearEnd LocationAbbr LocationDesc DataSource          Topic  \\\n",
            "0       2019     2019           GA      Georgia      BRFSS     Disability   \n",
            "1       2019     2019           GU         Guam      BRFSS      Arthritis   \n",
            "2       2019     2019           GU         Guam      BRFSS   Immunization   \n",
            "3       2019     2019           ME        Maine      BRFSS       Diabetes   \n",
            "4       2019     2019           NV       Nevada       NVSS  Health Status   \n",
            "\n",
            "                             Question  Response DataValueUnit  \\\n",
            "0          Adults with any disability       NaN             %   \n",
            "1              Arthritis among adults       NaN             %   \n",
            "2  Influenza vaccination among adults       NaN             %   \n",
            "3               Diabetes among adults       NaN             %   \n",
            "4            Life expectancy at birth       NaN         Years   \n",
            "\n",
            "      DataValueType  ...  TopicID  QuestionID ResponseID DataValueTypeID  \\\n",
            "0  Crude Prevalence  ...      DIS       DIS01        NaN         CRDPREV   \n",
            "1  Crude Prevalence  ...      ART       ART01        NaN         CRDPREV   \n",
            "2  Crude Prevalence  ...      IMM       IMM01        NaN         CRDPREV   \n",
            "3  Crude Prevalence  ...      DIA       DIA01        NaN         CRDPREV   \n",
            "4            Number  ...      HEA       HEA06        NaN            NMBR   \n",
            "\n",
            "   StratificationCategoryID1  StratificationID1 StratificationCategoryID2  \\\n",
            "0                        AGE             AGE65P                       NaN   \n",
            "1                        SEX               SEXF                       NaN   \n",
            "2                        SEX               SEXM                       NaN   \n",
            "3                        SEX               SEXM                       NaN   \n",
            "4                    OVERALL                OVR                       NaN   \n",
            "\n",
            "  StratificationID2  StratificationCategoryID3  StratificationID3  \n",
            "0               NaN                        NaN                NaN  \n",
            "1               NaN                        NaN                NaN  \n",
            "2               NaN                        NaN                NaN  \n",
            "3               NaN                        NaN                NaN  \n",
            "4               NaN                        NaN                NaN  \n",
            "\n",
            "[5 rows x 34 columns]\n",
            "Initial shape of the dataset: (311745, 34)\n",
            "Shape after dropping completely empty columns: (311745, 24)\n",
            "Statistical summary of numerical columns:\n",
            "           YearStart        YearEnd  Response     DataValue  DataValueAlt  \\\n",
            "count  210684.000000  210684.000000       0.0  2.106840e+05  2.106840e+05   \n",
            "mean     2019.983900    2020.286063       NaN  6.897924e+02  7.308139e+02   \n",
            "std         1.597365       1.073926       NaN  1.614618e+04  1.828234e+04   \n",
            "min      2015.000000    2019.000000       NaN  0.000000e+00  0.000000e+00   \n",
            "25%      2019.000000    2019.000000       NaN  1.240000e+01  1.240000e+01   \n",
            "50%      2020.000000    2020.000000       NaN  2.700000e+01  2.700000e+01   \n",
            "75%      2021.000000    2021.000000       NaN  5.830000e+01  5.830000e+01   \n",
            "max      2022.000000    2022.000000       NaN  2.925456e+06  2.925456e+06   \n",
            "\n",
            "       LowConfidenceLimit  HighConfidenceLimit  StratificationCategory2  \\\n",
            "count       190373.000000        190378.000000                      0.0   \n",
            "mean            36.866274            46.092071                      NaN   \n",
            "std             64.810910            69.765041                      NaN   \n",
            "min              0.000000             0.000000                      NaN   \n",
            "25%              9.200000            14.100000                      NaN   \n",
            "50%             19.600000            29.300000                      NaN   \n",
            "75%             40.700000            54.700000                      NaN   \n",
            "max           1427.000000          1485.900000                      NaN   \n",
            "\n",
            "       Stratification2  StratificationCategory3  Stratification3  \\\n",
            "count              0.0                      0.0              0.0   \n",
            "mean               NaN                      NaN              NaN   \n",
            "std                NaN                      NaN              NaN   \n",
            "min                NaN                      NaN              NaN   \n",
            "25%                NaN                      NaN              NaN   \n",
            "50%                NaN                      NaN              NaN   \n",
            "75%                NaN                      NaN              NaN   \n",
            "max                NaN                      NaN              NaN   \n",
            "\n",
            "          LocationID  ResponseID  StratificationCategoryID2  \\\n",
            "count  210684.000000         0.0                        0.0   \n",
            "mean       30.456973         NaN                        NaN   \n",
            "std        17.065055         NaN                        NaN   \n",
            "min         1.000000         NaN                        NaN   \n",
            "25%        17.000000         NaN                        NaN   \n",
            "50%        30.000000         NaN                        NaN   \n",
            "75%        44.000000         NaN                        NaN   \n",
            "max        78.000000         NaN                        NaN   \n",
            "\n",
            "       StratificationID2  StratificationCategoryID3  StratificationID3  \n",
            "count                0.0                        0.0                0.0  \n",
            "mean                 NaN                        NaN                NaN  \n",
            "std                  NaN                        NaN                NaN  \n",
            "min                  NaN                        NaN                NaN  \n",
            "25%                  NaN                        NaN                NaN  \n",
            "50%                  NaN                        NaN                NaN  \n",
            "75%                  NaN                        NaN                NaN  \n",
            "max                  NaN                        NaN                NaN  \n",
            "Cleaned dataset saved to: /content/U.S._Chronic_Disease_Indicators.csv\n"
          ]
        }
      ],
      "source": [
        "# Load the dataset\n",
        "url = \"https://data.cdc.gov/api/views/hksd-2xuw/rows.csv?accessType=DOWNLOAD\"\n",
        "\n",
        "# Use pandas to read the CSV directly from the URL\n",
        "df = pd.read_csv(url)\n",
        "\n",
        "# Now `df` contains your DataFrame loaded directly from the URL\n",
        "print(df.head())\n",
        "\n",
        "\n",
        "# Initial data overview\n",
        "print(\"Initial shape of the dataset:\", df.shape)\n",
        "\n",
        "# Drop completely empty columns\n",
        "df_cleaned = df.dropna(axis=1, how='all')\n",
        "print(\"Shape after dropping completely empty columns:\", df_cleaned.shape)\n",
        "\n",
        "# Columns considered critical for this analysis\n",
        "critical_columns = ['YearStart', 'YearEnd', 'LocationAbbr', 'StratificationCategory1', 'Stratification1', 'DataValue']\n",
        "\n",
        "# Dropping rows with missing values in any of the critical columns\n",
        "df_cleaned = df.dropna(subset=critical_columns)\n",
        "\n",
        "#  Provide a simple statistical summary for numerical columns\n",
        "print(\"Statistical summary of numerical columns:\")\n",
        "print(df_cleaned.describe())\n",
        "\n",
        "#save as a new csv files\n",
        "cleaned_file_path = r\"/content/U.S._Chronic_Disease_Indicators.csv\"\n",
        "df_cleaned.to_csv(cleaned_file_path, index=False)\n",
        "print(f\"Cleaned dataset saved to: {cleaned_file_path}\")\n"
      ]
    },
    {
      "cell_type": "code",
      "execution_count": null,
      "metadata": {
        "id": "3LeI32Fx4WSY"
      },
      "outputs": [],
      "source": []
    }
  ],
  "metadata": {
    "colab": {
      "provenance": []
    },
    "kernelspec": {
      "display_name": "Python 3",
      "name": "python3"
    },
    "language_info": {
      "name": "python"
    }
  },
  "nbformat": 4,
  "nbformat_minor": 0
}
