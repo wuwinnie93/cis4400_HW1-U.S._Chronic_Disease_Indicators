{
  "cells": [
    {
      "cell_type": "code",
      "execution_count": 1,
      "metadata": {
        "id": "z2DWoRKCfZk0"
      },
      "outputs": [
        {
          "name": "stdout",
          "output_type": "stream",
          "text": [
            "Collecting azure-storage-blob\n",
            "  Downloading azure_storage_blob-12.19.1-py3-none-any.whl (394 kB)\n",
            "     -------------------------------------- 394.5/394.5 kB 3.1 MB/s eta 0:00:00\n",
            "Collecting cryptography>=2.1.4\n",
            "  Downloading cryptography-42.0.5-cp39-abi3-win_amd64.whl (2.9 MB)\n",
            "     ---------------------------------------- 2.9/2.9 MB 23.0 MB/s eta 0:00:00\n",
            "Collecting azure-core<2.0.0,>=1.28.0\n",
            "  Downloading azure_core-1.30.1-py3-none-any.whl (193 kB)\n",
            "     -------------------------------------- 193.4/193.4 kB 2.3 MB/s eta 0:00:00\n",
            "Collecting isodate>=0.6.1\n",
            "  Downloading isodate-0.6.1-py2.py3-none-any.whl (41 kB)\n",
            "     ---------------------------------------- 41.7/41.7 kB ? eta 0:00:00\n",
            "Requirement already satisfied: typing-extensions>=4.3.0 in c:\\users\\wuwin\\appdata\\roaming\\python\\python310\\site-packages (from azure-storage-blob) (4.11.0)\n",
            "Requirement already satisfied: six>=1.11.0 in c:\\users\\wuwin\\appdata\\roaming\\python\\python310\\site-packages (from azure-core<2.0.0,>=1.28.0->azure-storage-blob) (1.16.0)\n",
            "Collecting requests>=2.21.0\n",
            "  Downloading requests-2.31.0-py3-none-any.whl (62 kB)\n",
            "     ---------------------------------------- 62.6/62.6 kB 1.1 MB/s eta 0:00:00\n",
            "Collecting cffi>=1.12\n",
            "  Downloading cffi-1.16.0-cp310-cp310-win_amd64.whl (181 kB)\n",
            "     ---------------------------------------- 181.6/181.6 kB ? eta 0:00:00\n",
            "Collecting pycparser\n",
            "  Downloading pycparser-2.22-py3-none-any.whl (117 kB)\n",
            "     ------------------------------------ 117.6/117.6 kB 761.1 kB/s eta 0:00:00\n",
            "Collecting charset-normalizer<4,>=2\n",
            "  Downloading charset_normalizer-3.3.2-cp310-cp310-win_amd64.whl (100 kB)\n",
            "     ------------------------------------ 100.3/100.3 kB 819.1 kB/s eta 0:00:00\n",
            "Collecting certifi>=2017.4.17\n",
            "  Downloading certifi-2024.2.2-py3-none-any.whl (163 kB)\n",
            "     ---------------------------------------- 163.8/163.8 kB ? eta 0:00:00\n",
            "Collecting idna<4,>=2.5\n",
            "  Downloading idna-3.6-py3-none-any.whl (61 kB)\n",
            "     ---------------------------------------- 61.6/61.6 kB 3.4 MB/s eta 0:00:00\n",
            "Collecting urllib3<3,>=1.21.1\n",
            "  Downloading urllib3-2.2.1-py3-none-any.whl (121 kB)\n",
            "     -------------------------------------- 121.1/121.1 kB 2.4 MB/s eta 0:00:00\n",
            "Installing collected packages: urllib3, pycparser, isodate, idna, charset-normalizer, certifi, requests, cffi, cryptography, azure-core, azure-storage-blob\n",
            "Successfully installed azure-core-1.30.1 azure-storage-blob-12.19.1 certifi-2024.2.2 cffi-1.16.0 charset-normalizer-3.3.2 cryptography-42.0.5 idna-3.6 isodate-0.6.1 pycparser-2.22 requests-2.31.0 urllib3-2.2.1\n"
          ]
        },
        {
          "name": "stderr",
          "output_type": "stream",
          "text": [
            "\n",
            "[notice] A new release of pip available: 22.2.2 -> 24.0\n",
            "[notice] To update, run: python.exe -m pip install --upgrade pip\n"
          ]
        }
      ],
      "source": [
        "!pip install azure-storage-blob"
      ]
    },
    {
      "cell_type": "code",
      "execution_count": 5,
      "metadata": {},
      "outputs": [
        {
          "name": "stdout",
          "output_type": "stream",
          "text": [
            "Collecting pandas\n",
            "  Downloading pandas-2.2.1-cp310-cp310-win_amd64.whl (11.6 MB)\n",
            "     --------------------------------------- 11.6/11.6 MB 38.6 MB/s eta 0:00:00\n",
            "Collecting numpy<2,>=1.22.4\n",
            "  Downloading numpy-1.26.4-cp310-cp310-win_amd64.whl (15.8 MB)\n",
            "     --------------------------------------- 15.8/15.8 MB 38.5 MB/s eta 0:00:00\n",
            "Collecting pytz>=2020.1\n",
            "  Downloading pytz-2024.1-py2.py3-none-any.whl (505 kB)\n",
            "     ------------------------------------- 505.5/505.5 kB 33.0 MB/s eta 0:00:00\n",
            "Requirement already satisfied: python-dateutil>=2.8.2 in c:\\users\\wuwin\\appdata\\roaming\\python\\python310\\site-packages (from pandas) (2.9.0.post0)\n",
            "Collecting tzdata>=2022.7\n",
            "  Downloading tzdata-2024.1-py2.py3-none-any.whl (345 kB)\n",
            "     -------------------------------------- 345.4/345.4 kB 3.0 MB/s eta 0:00:00\n",
            "Requirement already satisfied: six>=1.5 in c:\\users\\wuwin\\appdata\\roaming\\python\\python310\\site-packages (from python-dateutil>=2.8.2->pandas) (1.16.0)\n",
            "Installing collected packages: pytz, tzdata, numpy, pandas\n",
            "Successfully installed numpy-1.26.4 pandas-2.2.1 pytz-2024.1 tzdata-2024.1\n"
          ]
        },
        {
          "name": "stderr",
          "output_type": "stream",
          "text": [
            "\n",
            "[notice] A new release of pip available: 22.2.2 -> 24.0\n",
            "[notice] To update, run: python.exe -m pip install --upgrade pip\n"
          ]
        }
      ],
      "source": [
        "!pip install pandas"
      ]
    },
    {
      "cell_type": "code",
      "execution_count": 6,
      "metadata": {},
      "outputs": [],
      "source": [
        "\n",
        "from io import StringIO\n",
        "import pandas as pd\n",
        "import numpy as np\n",
        "import json\n",
        "import requests\n",
        "from azure.storage.blob import BlobServiceClient, BlobClient, ContainerClient"
      ]
    },
    {
      "cell_type": "code",
      "execution_count": 3,
      "metadata": {
        "colab": {
          "base_uri": "https://localhost:8080/"
        },
        "id": "3G8L1240f4Mz",
        "outputId": "106be0eb-b833-4597-db96-472ebf48f03c"
      },
      "outputs": [
        {
          "name": "stdout",
          "output_type": "stream",
          "text": [
            "   YearStart  YearEnd LocationAbbr LocationDesc DataSource          Topic  \\\n",
            "0       2019     2019           GA      Georgia      BRFSS     Disability   \n",
            "1       2019     2019           GU         Guam      BRFSS      Arthritis   \n",
            "2       2019     2019           GU         Guam      BRFSS   Immunization   \n",
            "3       2019     2019           ME        Maine      BRFSS       Diabetes   \n",
            "4       2019     2019           NV       Nevada       NVSS  Health Status   \n",
            "\n",
            "                             Question  Response DataValueUnit  \\\n",
            "0          Adults with any disability       NaN             %   \n",
            "1              Arthritis among adults       NaN             %   \n",
            "2  Influenza vaccination among adults       NaN             %   \n",
            "3               Diabetes among adults       NaN             %   \n",
            "4            Life expectancy at birth       NaN         Years   \n",
            "\n",
            "      DataValueType  ...  TopicID  QuestionID ResponseID DataValueTypeID  \\\n",
            "0  Crude Prevalence  ...      DIS       DIS01        NaN         CRDPREV   \n",
            "1  Crude Prevalence  ...      ART       ART01        NaN         CRDPREV   \n",
            "2  Crude Prevalence  ...      IMM       IMM01        NaN         CRDPREV   \n",
            "3  Crude Prevalence  ...      DIA       DIA01        NaN         CRDPREV   \n",
            "4            Number  ...      HEA       HEA06        NaN            NMBR   \n",
            "\n",
            "   StratificationCategoryID1  StratificationID1 StratificationCategoryID2  \\\n",
            "0                        AGE             AGE65P                       NaN   \n",
            "1                        SEX               SEXF                       NaN   \n",
            "2                        SEX               SEXM                       NaN   \n",
            "3                        SEX               SEXM                       NaN   \n",
            "4                    OVERALL                OVR                       NaN   \n",
            "\n",
            "  StratificationID2  StratificationCategoryID3  StratificationID3  \n",
            "0               NaN                        NaN                NaN  \n",
            "1               NaN                        NaN                NaN  \n",
            "2               NaN                        NaN                NaN  \n",
            "3               NaN                        NaN                NaN  \n",
            "4               NaN                        NaN                NaN  \n",
            "\n",
            "[5 rows x 34 columns]\n",
            "Initial shape of the dataset: (311745, 34)\n",
            "Shape after dropping completely empty columns: (311745, 24)\n",
            "Statistical summary of numerical columns:\n",
            "           YearStart        YearEnd  Response     DataValue  DataValueAlt  \\\n",
            "count  210684.000000  210684.000000       0.0  2.106840e+05  2.106840e+05   \n",
            "mean     2019.983900    2020.286063       NaN  6.897924e+02  7.308139e+02   \n",
            "std         1.597365       1.073926       NaN  1.614618e+04  1.828234e+04   \n",
            "min      2015.000000    2019.000000       NaN  0.000000e+00  0.000000e+00   \n",
            "25%      2019.000000    2019.000000       NaN  1.240000e+01  1.240000e+01   \n",
            "50%      2020.000000    2020.000000       NaN  2.700000e+01  2.700000e+01   \n",
            "75%      2021.000000    2021.000000       NaN  5.830000e+01  5.830000e+01   \n",
            "max      2022.000000    2022.000000       NaN  2.925456e+06  2.925456e+06   \n",
            "\n",
            "       LowConfidenceLimit  HighConfidenceLimit  StratificationCategory2  \\\n",
            "count       190373.000000        190378.000000                      0.0   \n",
            "mean            36.866274            46.092071                      NaN   \n",
            "std             64.810910            69.765041                      NaN   \n",
            "min              0.000000             0.000000                      NaN   \n",
            "25%              9.200000            14.100000                      NaN   \n",
            "50%             19.600000            29.300000                      NaN   \n",
            "75%             40.700000            54.700000                      NaN   \n",
            "max           1427.000000          1485.900000                      NaN   \n",
            "\n",
            "       Stratification2  StratificationCategory3  Stratification3  \\\n",
            "count              0.0                      0.0              0.0   \n",
            "mean               NaN                      NaN              NaN   \n",
            "std                NaN                      NaN              NaN   \n",
            "min                NaN                      NaN              NaN   \n",
            "25%                NaN                      NaN              NaN   \n",
            "50%                NaN                      NaN              NaN   \n",
            "75%                NaN                      NaN              NaN   \n",
            "max                NaN                      NaN              NaN   \n",
            "\n",
            "          LocationID  ResponseID  StratificationCategoryID2  \\\n",
            "count  210684.000000         0.0                        0.0   \n",
            "mean       30.456973         NaN                        NaN   \n",
            "std        17.065055         NaN                        NaN   \n",
            "min         1.000000         NaN                        NaN   \n",
            "25%        17.000000         NaN                        NaN   \n",
            "50%        30.000000         NaN                        NaN   \n",
            "75%        44.000000         NaN                        NaN   \n",
            "max        78.000000         NaN                        NaN   \n",
            "\n",
            "       StratificationID2  StratificationCategoryID3  StratificationID3  \n",
            "count                0.0                        0.0                0.0  \n",
            "mean                 NaN                        NaN                NaN  \n",
            "std                  NaN                        NaN                NaN  \n",
            "min                  NaN                        NaN                NaN  \n",
            "25%                  NaN                        NaN                NaN  \n",
            "50%                  NaN                        NaN                NaN  \n",
            "75%                  NaN                        NaN                NaN  \n",
            "max                  NaN                        NaN                NaN  \n",
            "Cleaned dataset saved to: /content/U.S._Chronic_Disease_Indicators.csv\n"
          ]
        }
      ],
      "source": [
        "# Load the dataset\n",
        "url = \"https://data.cdc.gov/api/views/hksd-2xuw/rows.csv?accessType=DOWNLOAD\"\n",
        "\n",
        "# Use pandas to read the CSV directly from the URL\n",
        "df = pd.read_csv(url)\n",
        "\n",
        "# Now `df` contains your DataFrame loaded directly from the URL\n",
        "print(df.head())\n",
        "\n",
        "\n",
        "# Initial data overview\n",
        "print(\"Initial shape of the dataset:\", df.shape)\n",
        "\n",
        "# Drop completely empty columns\n",
        "df_cleaned = df.dropna(axis=1, how='all')\n",
        "print(\"Shape after dropping completely empty columns:\", df_cleaned.shape)\n",
        "\n",
        "# Columns considered critical for this analysis\n",
        "critical_columns = ['YearStart', 'YearEnd', 'LocationAbbr', 'StratificationCategory1', 'Stratification1', 'DataValue']\n",
        "\n",
        "# Dropping rows with missing values in any of the critical columns\n",
        "df_cleaned = df.dropna(subset=critical_columns)\n",
        "\n",
        "#  Provide a simple statistical summary for numerical columns\n",
        "print(\"Statistical summary of numerical columns:\")\n",
        "print(df_cleaned.describe())\n",
        "\n",
        "#save as a new csv files\n",
        "cleaned_file_path = r\"/content/U.S._Chronic_Disease_Indicators.csv\"\n",
        "df_cleaned.to_csv(cleaned_file_path, index=False)\n",
        "print(f\"Cleaned dataset saved to: {cleaned_file_path}\")\n"
      ]
    },
    {
      "cell_type": "code",
      "execution_count": null,
      "metadata": {},
      "outputs": [],
      "source": []
    },
    {
      "cell_type": "code",
      "execution_count": null,
      "metadata": {
        "id": "3LeI32Fx4WSY"
      },
      "outputs": [],
      "source": []
    }
  ],
  "metadata": {
    "colab": {
      "provenance": []
    },
    "kernelspec": {
      "display_name": "Python 3",
      "name": "python3"
    },
    "language_info": {
      "codemirror_mode": {
        "name": "ipython",
        "version": 3
      },
      "file_extension": ".py",
      "mimetype": "text/x-python",
      "name": "python",
      "nbconvert_exporter": "python",
      "pygments_lexer": "ipython3",
      "version": "3.10.7"
    }
  },
  "nbformat": 4,
  "nbformat_minor": 0
}
