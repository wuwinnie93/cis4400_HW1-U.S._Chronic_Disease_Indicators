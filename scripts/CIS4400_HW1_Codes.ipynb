{
  "cells": [
    {
      "cell_type": "code",
      "execution_count": 2,
      "metadata": {
        "id": "z2DWoRKCfZk0"
      },
      "outputs": [],
      "source": [
        "import pandas as pd\n",
        "import numpy as np\n",
        "import json\n",
        "import requests\n",
        "from io import StringIO"
      ]
    },
    {
      "cell_type": "code",
      "execution_count": 3,
      "metadata": {
        "colab": {
          "base_uri": "https://localhost:8080/"
        },
        "id": "3G8L1240f4Mz",
        "outputId": "106be0eb-b833-4597-db96-472ebf48f03c"
      },
      "outputs": [
        {
          "name": "stdout",
          "output_type": "stream",
          "text": [
            "   YearStart  YearEnd LocationAbbr LocationDesc DataSource          Topic  \\\n",
            "0       2019     2019           GA      Georgia      BRFSS     Disability   \n",
            "1       2019     2019           GU         Guam      BRFSS      Arthritis   \n",
            "2       2019     2019           GU         Guam      BRFSS   Immunization   \n",
            "3       2019     2019           ME        Maine      BRFSS       Diabetes   \n",
            "4       2019     2019           NV       Nevada       NVSS  Health Status   \n",
            "\n",
            "                             Question  Response DataValueUnit  \\\n",
            "0          Adults with any disability       NaN             %   \n",
            "1              Arthritis among adults       NaN             %   \n",
            "2  Influenza vaccination among adults       NaN             %   \n",
            "3               Diabetes among adults       NaN             %   \n",
            "4            Life expectancy at birth       NaN         Years   \n",
            "\n",
            "      DataValueType  ...  TopicID  QuestionID ResponseID DataValueTypeID  \\\n",
            "0  Crude Prevalence  ...      DIS       DIS01        NaN         CRDPREV   \n",
            "1  Crude Prevalence  ...      ART       ART01        NaN         CRDPREV   \n",
            "2  Crude Prevalence  ...      IMM       IMM01        NaN         CRDPREV   \n",
            "3  Crude Prevalence  ...      DIA       DIA01        NaN         CRDPREV   \n",
            "4            Number  ...      HEA       HEA06        NaN            NMBR   \n",
            "\n",
            "   StratificationCategoryID1  StratificationID1 StratificationCategoryID2  \\\n",
            "0                        AGE             AGE65P                       NaN   \n",
            "1                        SEX               SEXF                       NaN   \n",
            "2                        SEX               SEXM                       NaN   \n",
            "3                        SEX               SEXM                       NaN   \n",
            "4                    OVERALL                OVR                       NaN   \n",
            "\n",
            "  StratificationID2  StratificationCategoryID3  StratificationID3  \n",
            "0               NaN                        NaN                NaN  \n",
            "1               NaN                        NaN                NaN  \n",
            "2               NaN                        NaN                NaN  \n",
            "3               NaN                        NaN                NaN  \n",
            "4               NaN                        NaN                NaN  \n",
            "\n",
            "[5 rows x 34 columns]\n",
            "Initial shape of the dataset: (311745, 34)\n",
            "Shape after dropping completely empty columns: (311745, 24)\n",
            "Statistical summary of numerical columns:\n",
            "           YearStart        YearEnd  Response     DataValue  DataValueAlt  \\\n",
            "count  210684.000000  210684.000000       0.0  2.106840e+05  2.106840e+05   \n",
            "mean     2019.983900    2020.286063       NaN  6.897924e+02  7.308139e+02   \n",
            "std         1.597365       1.073926       NaN  1.614618e+04  1.828234e+04   \n",
            "min      2015.000000    2019.000000       NaN  0.000000e+00  0.000000e+00   \n",
            "25%      2019.000000    2019.000000       NaN  1.240000e+01  1.240000e+01   \n",
            "50%      2020.000000    2020.000000       NaN  2.700000e+01  2.700000e+01   \n",
            "75%      2021.000000    2021.000000       NaN  5.830000e+01  5.830000e+01   \n",
            "max      2022.000000    2022.000000       NaN  2.925456e+06  2.925456e+06   \n",
            "\n",
            "       LowConfidenceLimit  HighConfidenceLimit  StratificationCategory2  \\\n",
            "count       190373.000000        190378.000000                      0.0   \n",
            "mean            36.866274            46.092071                      NaN   \n",
            "std             64.810910            69.765041                      NaN   \n",
            "min              0.000000             0.000000                      NaN   \n",
            "25%              9.200000            14.100000                      NaN   \n",
            "50%             19.600000            29.300000                      NaN   \n",
            "75%             40.700000            54.700000                      NaN   \n",
            "max           1427.000000          1485.900000                      NaN   \n",
            "\n",
            "       Stratification2  StratificationCategory3  Stratification3  \\\n",
            "count              0.0                      0.0              0.0   \n",
            "mean               NaN                      NaN              NaN   \n",
            "std                NaN                      NaN              NaN   \n",
            "min                NaN                      NaN              NaN   \n",
            "25%                NaN                      NaN              NaN   \n",
            "50%                NaN                      NaN              NaN   \n",
            "75%                NaN                      NaN              NaN   \n",
            "max                NaN                      NaN              NaN   \n",
            "\n",
            "          LocationID  ResponseID  StratificationCategoryID2  \\\n",
            "count  210684.000000         0.0                        0.0   \n",
            "mean       30.456973         NaN                        NaN   \n",
            "std        17.065055         NaN                        NaN   \n",
            "min         1.000000         NaN                        NaN   \n",
            "25%        17.000000         NaN                        NaN   \n",
            "50%        30.000000         NaN                        NaN   \n",
            "75%        44.000000         NaN                        NaN   \n",
            "max        78.000000         NaN                        NaN   \n",
            "\n",
            "       StratificationID2  StratificationCategoryID3  StratificationID3  \n",
            "count                0.0                        0.0                0.0  \n",
            "mean                 NaN                        NaN                NaN  \n",
            "std                  NaN                        NaN                NaN  \n",
            "min                  NaN                        NaN                NaN  \n",
            "25%                  NaN                        NaN                NaN  \n",
            "50%                  NaN                        NaN                NaN  \n",
            "75%                  NaN                        NaN                NaN  \n",
            "max                  NaN                        NaN                NaN  \n",
            "Cleaned dataset saved to: /content/U.S._Chronic_Disease_Indicators.csv\n"
          ]
        }
      ],
      "source": [
        "# Load the dataset\n",
        "url = \"https://data.cdc.gov/api/views/hksd-2xuw/rows.csv?accessType=DOWNLOAD\"\n",
        "\n",
        "# Use pandas to read the CSV directly from the URL\n",
        "df = pd.read_csv(url)\n",
        "\n",
        "# Now `df` contains your DataFrame loaded directly from the URL\n",
        "print(df.head())\n",
        "\n",
        "\n",
        "# Initial data overview\n",
        "print(\"Initial shape of the dataset:\", df.shape)\n",
        "\n",
        "# Drop completely empty columns\n",
        "df_cleaned = df.dropna(axis=1, how='all')\n",
        "print(\"Shape after dropping completely empty columns:\", df_cleaned.shape)\n",
        "\n",
        "# Columns considered critical for this analysis\n",
        "critical_columns = ['YearStart', 'YearEnd', 'LocationAbbr', 'StratificationCategory1', 'Stratification1', 'DataValue']\n",
        "\n",
        "# Dropping rows with missing values in any of the critical columns\n",
        "df_cleaned = df.dropna(subset=critical_columns)\n",
        "\n",
        "#  Provide a simple statistical summary for numerical columns\n",
        "print(\"Statistical summary of numerical columns:\")\n",
        "print(df_cleaned.describe())\n",
        "\n",
        "# Optional: Save the cleaned dataset to a new CSV file\n",
        "cleaned_file_path = r\"/content/U.S._Chronic_Disease_Indicators.csv\"\n",
        "df_cleaned.to_csv(cleaned_file_path, index=False)\n",
        "print(f\"Cleaned dataset saved to: {cleaned_file_path}\")\n"
      ]
    },
    {
      "cell_type": "code",
      "execution_count": 11,
      "metadata": {
        "colab": {
          "base_uri": "https://localhost:8080/"
        },
        "id": "__DdLRE4ayw3",
        "outputId": "3f2677d4-85e2-4301-b117-512d89ec2025"
      },
      "outputs": [
        {
          "name": "stdout",
          "output_type": "stream",
          "text": [
            "Collecting azure-storage-blob\n",
            "  Downloading azure_storage_blob-12.19.1-py3-none-any.whl (394 kB)\n",
            "\u001b[2K     \u001b[90m━━━━━━━━━━━━━━━━━━━━━━━━━━━━━━━━━━━━━━━━\u001b[0m \u001b[32m394.5/394.5 kB\u001b[0m \u001b[31m2.7 MB/s\u001b[0m eta \u001b[36m0:00:00\u001b[0m\n",
            "\u001b[?25hCollecting azure-core<2.0.0,>=1.28.0 (from azure-storage-blob)\n",
            "  Downloading azure_core-1.30.1-py3-none-any.whl (193 kB)\n",
            "\u001b[2K     \u001b[90m━━━━━━━━━━━━━━━━━━━━━━━━━━━━━━━━━━━━━━━━\u001b[0m \u001b[32m193.4/193.4 kB\u001b[0m \u001b[31m16.1 MB/s\u001b[0m eta \u001b[36m0:00:00\u001b[0m\n",
            "\u001b[?25hRequirement already satisfied: cryptography>=2.1.4 in /usr/local/lib/python3.10/dist-packages (from azure-storage-blob) (42.0.5)\n",
            "Requirement already satisfied: typing-extensions>=4.3.0 in /usr/local/lib/python3.10/dist-packages (from azure-storage-blob) (4.10.0)\n",
            "Collecting isodate>=0.6.1 (from azure-storage-blob)\n",
            "  Downloading isodate-0.6.1-py2.py3-none-any.whl (41 kB)\n",
            "\u001b[2K     \u001b[90m━━━━━━━━━━━━━━━━━━━━━━━━━━━━━━━━━━━━━━━━\u001b[0m \u001b[32m41.7/41.7 kB\u001b[0m \u001b[31m4.2 MB/s\u001b[0m eta \u001b[36m0:00:00\u001b[0m\n",
            "\u001b[?25hRequirement already satisfied: requests>=2.21.0 in /usr/local/lib/python3.10/dist-packages (from azure-core<2.0.0,>=1.28.0->azure-storage-blob) (2.31.0)\n",
            "Requirement already satisfied: six>=1.11.0 in /usr/local/lib/python3.10/dist-packages (from azure-core<2.0.0,>=1.28.0->azure-storage-blob) (1.16.0)\n",
            "Requirement already satisfied: cffi>=1.12 in /usr/local/lib/python3.10/dist-packages (from cryptography>=2.1.4->azure-storage-blob) (1.16.0)\n",
            "Requirement already satisfied: pycparser in /usr/local/lib/python3.10/dist-packages (from cffi>=1.12->cryptography>=2.1.4->azure-storage-blob) (2.22)\n",
            "Requirement already satisfied: charset-normalizer<4,>=2 in /usr/local/lib/python3.10/dist-packages (from requests>=2.21.0->azure-core<2.0.0,>=1.28.0->azure-storage-blob) (3.3.2)\n",
            "Requirement already satisfied: idna<4,>=2.5 in /usr/local/lib/python3.10/dist-packages (from requests>=2.21.0->azure-core<2.0.0,>=1.28.0->azure-storage-blob) (3.6)\n",
            "Requirement already satisfied: urllib3<3,>=1.21.1 in /usr/local/lib/python3.10/dist-packages (from requests>=2.21.0->azure-core<2.0.0,>=1.28.0->azure-storage-blob) (2.0.7)\n",
            "Requirement already satisfied: certifi>=2017.4.17 in /usr/local/lib/python3.10/dist-packages (from requests>=2.21.0->azure-core<2.0.0,>=1.28.0->azure-storage-blob) (2024.2.2)\n",
            "Installing collected packages: isodate, azure-core, azure-storage-blob\n",
            "Successfully installed azure-core-1.30.1 azure-storage-blob-12.19.1 isodate-0.6.1\n"
          ]
        }
      ],
      "source": [
        "!pip install azure-storage-blob"
      ]
    },
    {
      "cell_type": "code",
      "execution_count": 12,
      "metadata": {
        "id": "00xya5eYapKd"
      },
      "outputs": [],
      "source": [
        "# Import the required class\n",
        "from azure.storage.blob import BlobServiceClient, BlobClient, ContainerClient"
      ]
    },
    {
      "cell_type": "code",
      "execution_count": 13,
      "metadata": {
        "colab": {
          "base_uri": "https://localhost:8080/"
        },
        "id": "3LeI32Fx4WSY",
        "outputId": "fb2cc9b0-0591-4882-9a28-be512ae7ee2b"
      },
      "outputs": [
        {
          "name": "stdout",
          "output_type": "stream",
          "text": [
            "Uploaded cis4400hw1_20240407.csv to Azure Blob Storage in container cis4400hw1.\n"
          ]
        }
      ],
      "source": [
        "# Specify the path to your JSON configuration file\n",
        "config_file_path = 'config.json'\n",
        "\n",
        "# Load the JSON configuration file\n",
        "with open(config_file_path, 'r') as config_file:\n",
        "    config = json.load(config_file)\n",
        "\n",
        "# Retrieve the Azure connection string and container name from the config\n",
        "CONNECTION_STRING_AZURE_STORAGE = config[\"connectionString\"]\n",
        "CONTAINER_AZURE = 'cis4400hw1'\n",
        "blob_name = \"cis4400hw1_20240407.csv\"\n",
        "\n",
        "# Convert DataFrame to CSV format using StringIO\n",
        "output = StringIO()\n",
        "df_raw.to_csv(output, index=False)\n",
        "data = output.getvalue()\n",
        "output.close()\n",
        "\n",
        "# Upload the data to Azure Blob Storage\n",
        "blob_service_client = BlobServiceClient.from_connection_string(CONNECTION_STRING_AZURE_STORAGE)\n",
        "\n",
        "# Get a blob client\n",
        "blob_client = blob_service_client.get_blob_client(container=CONTAINER_AZURE, blob=blob_name)\n",
        "\n",
        "# Upload the CSV data\n",
        "blob_client.upload_blob(data, overwrite=True)\n",
        "\n",
        "print(f\"Uploaded {blob_name} to Azure Blob Storage in container {CONTAINER_AZURE}.\")"
      ]
    },
    {
      "cell_type": "code",
      "execution_count": null,
      "metadata": {
        "id": "ZDkyXDsiam3Y"
      },
      "outputs": [],
      "source": []
    },
    {
      "cell_type": "code",
      "execution_count": null,
      "metadata": {
        "id": "S0vPt1vgaRAB"
      },
      "outputs": [],
      "source": []
    }
  ],
  "metadata": {
    "colab": {
      "provenance": []
    },
    "kernelspec": {
      "display_name": "Python 3",
      "name": "python3"
    },
    "language_info": {
      "name": "python",
      "version": "3.10.7"
    }
  },
  "nbformat": 4,
  "nbformat_minor": 0
}
